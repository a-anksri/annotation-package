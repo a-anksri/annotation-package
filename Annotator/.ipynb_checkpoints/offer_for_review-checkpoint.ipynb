{
 "cells": [
  {
   "cell_type": "code",
   "execution_count": 16,
   "metadata": {},
   "outputs": [],
   "source": [
    "\n",
    "data_folder = 'data_files'\n",
    "annotator = 'Arnab'\n",
    "reviewer = 'Ankur'"
   ]
  },
  {
   "cell_type": "code",
   "execution_count": 17,
   "metadata": {},
   "outputs": [],
   "source": [
    "import numpy as np\n",
    "import pandas as pd\n",
    "import cv2 as cv\n",
    "import sys\n",
    "import string\n",
    "import os"
   ]
  },
  {
   "cell_type": "code",
   "execution_count": 18,
   "metadata": {},
   "outputs": [],
   "source": [
    "kp_dataset_file = \"KEYPOINTS_DATASET_\" + annotator + '.csv'\n",
    "status_file = 'STATUS_' + annotator + '.csv'\n",
    "offered_file = 'offered_for_review_' + annotator + '.csv'"
   ]
  },
  {
   "cell_type": "code",
   "execution_count": 19,
   "metadata": {},
   "outputs": [],
   "source": [
    "kp_dataset_path = os.path.join(data_folder, kp_dataset_file)\n",
    "status_path = os.path.join(data_folder, status_file)\n",
    "offered_path = os.path.join(data_folder, offered_file)"
   ]
  },
  {
   "cell_type": "code",
   "execution_count": 20,
   "metadata": {},
   "outputs": [],
   "source": [
    "kp_dataset = pd.read_csv(kp_dataset_path, index_col = False)\n",
    "status = pd.read_csv(status_path, index_col = False)\n",
    "\n",
    "\n",
    "sent = status[status['sent_for_review'] == True ]\n",
    "sent = sent['file_name'].values\n",
    "all = status['file_name'].values\n",
    "\n",
    "\n",
    "for im in all:\n",
    "     if( im in sent):\n",
    "         kp_dataset = kp_dataset[kp_dataset['img_id'] != im]\n",
    "     else:\n",
    "         record = status['file_name'] == im\n",
    "         status.loc[record,'sent_for_review'] = True\n",
    "     \n",
    "     \n",
    "\n",
    "\n",
    "\n",
    "kp_dataset.to_csv(offered_path, index = False)\n",
    "\n",
    "status.to_csv(status_path, index = False)"
   ]
  },
  {
   "cell_type": "code",
   "execution_count": null,
   "metadata": {},
   "outputs": [],
   "source": []
  }
 ],
 "metadata": {
  "kernelspec": {
   "display_name": "Python 3",
   "language": "python",
   "name": "python3"
  },
  "language_info": {
   "codemirror_mode": {
    "name": "ipython",
    "version": 3
   },
   "file_extension": ".py",
   "mimetype": "text/x-python",
   "name": "python",
   "nbconvert_exporter": "python",
   "pygments_lexer": "ipython3",
   "version": "3.8.5"
  }
 },
 "nbformat": 4,
 "nbformat_minor": 5
}
