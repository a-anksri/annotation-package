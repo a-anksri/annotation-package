{
 "cells": [
  {
   "cell_type": "code",
   "execution_count": null,
   "id": "48f02b66",
   "metadata": {},
   "outputs": [],
   "source": [
    "import numpy as np\n",
    "import pandas as pd\n",
    "import cv2 as cv\n",
    "import sys\n",
    "import string\n",
    "import os\n",
    "\n",
    "import pickle\n",
    "\n",
    "root_config_path = '../../annotator_data/root_config'\n",
    "if(os.path.exists(root_config_path)):\n",
    "    f = open(root_config_path, 'rb')\n",
    "    root_config = pickle.load(f)\n",
    "    f.close()\n",
    "    annotator_id = root_config['id']\n",
    "    annotator = root_config['name']\n",
    "else:\n",
    "    print('Not Configured. Please Obtain Configuration File')\n",
    "    \n",
    "print(\"Name: \" + annotator)\n",
    "print(\"Id: {}\".format(annotator_id))\n",
    "print(\"Role: Annotator\")"
   ]
  }
 ],
 "metadata": {
  "kernelspec": {
   "display_name": "Python 3 (ipykernel)",
   "language": "python",
   "name": "python3"
  },
  "language_info": {
   "codemirror_mode": {
    "name": "ipython",
    "version": 3
   },
   "file_extension": ".py",
   "mimetype": "text/x-python",
   "name": "python",
   "nbconvert_exporter": "python",
   "pygments_lexer": "ipython3",
   "version": "3.9.13"
  }
 },
 "nbformat": 4,
 "nbformat_minor": 5
}
