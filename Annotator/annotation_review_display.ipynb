{
 "cells": [
  {
   "cell_type": "code",
   "execution_count": null,
   "metadata": {},
   "outputs": [],
   "source": [
    "#TEST CELL"
   ]
  },
  {
   "cell_type": "code",
   "execution_count": 1,
   "metadata": {},
   "outputs": [],
   "source": [
    "#Enter folder name where the images and dataset files exist\n",
    "image_folder = '../../Images'\n",
    "data_file_folder = '../annotator_data'\n",
    "annotator = 'Arnab'\n",
    "reviewer = 'Ankur'\n",
    "\n",
    "#Change if file names are not in the same format as suggested below\n",
    "keypoints_file = 'KEYPOINTS_DATASET_' + annotator +'.csv'\n",
    "review_file = 'review_results_' + annotator + '_' + reviewer + '.csv'\n",
    "status_file = 'STATUS_' + annotator +'.csv'\n",
    "to_annotate_file = 'to_annotate_' + annotator + '.csv'\n",
    "report_file = 'report_'+ annotator + '_' + reviewer + '.csv'\n",
    "\n",
    "\n",
    "\n",
    "window_size = (1028,768)"
   ]
  },
  {
   "cell_type": "code",
   "execution_count": 2,
   "metadata": {},
   "outputs": [],
   "source": [
    "import sys\n",
    "\n",
    "sys.path.append('..')"
   ]
  },
  {
   "cell_type": "code",
   "execution_count": 3,
   "metadata": {},
   "outputs": [],
   "source": [
    "import numpy as np\n",
    "import pandas as pd\n",
    "import cv2 as cv\n",
    "import sys\n",
    "import string\n",
    "import os\n",
    "from kp_package.annotation_display import *"
   ]
  },
  {
   "cell_type": "code",
   "execution_count": 4,
   "metadata": {},
   "outputs": [],
   "source": [
    "#Ordinarily, you will not need to change this\n",
    "#file where keypoint annotations would be saved\n",
    "kp_dataset_path = os.path.join(data_file_folder, keypoints_file)\n",
    "status_file_path = os.path.join(data_file_folder, status_file)\n",
    "\n",
    "#file where list of images that have been accepted after review shall be saved. Not required for annotation_tool\n",
    "review_file_path = os.path.join(data_file_folder, review_file)\n",
    "#file where list of files to be annotated will be provided by moderator\n",
    "to_annotate_path = os.path.join(data_file_folder, to_annotate_file)\n"
   ]
  },
  {
   "cell_type": "code",
   "execution_count": 5,
   "metadata": {},
   "outputs": [
    {
     "name": "stdout",
     "output_type": "stream",
     "text": [
      "Accept review and expunge annotation for this image? (y/n) y\n",
      "see next review? (y/n) y\n",
      "List of images where you did not agree with reviewer. Pl discuss with reviewer:\n",
      "[]\n"
     ]
    }
   ],
   "source": [
    "if(__name__ == '__main__'):\n",
    "    see_review(kp_dataset_path, status_file_path, review_file_path, window_size, image_folder, data_file_folder)"
   ]
  },
  {
   "cell_type": "code",
   "execution_count": null,
   "metadata": {},
   "outputs": [],
   "source": []
  }
 ],
 "metadata": {
  "kernelspec": {
   "display_name": "Python 3",
   "language": "python",
   "name": "python3"
  },
  "language_info": {
   "codemirror_mode": {
    "name": "ipython",
    "version": 3
   },
   "file_extension": ".py",
   "mimetype": "text/x-python",
   "name": "python",
   "nbconvert_exporter": "python",
   "pygments_lexer": "ipython3",
   "version": "3.8.5"
  }
 },
 "nbformat": 4,
 "nbformat_minor": 4
}
