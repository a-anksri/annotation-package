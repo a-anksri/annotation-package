{
 "cells": [
  {
   "cell_type": "code",
   "execution_count": 1,
   "metadata": {},
   "outputs": [],
   "source": [
    "#Enter folder name where the images and dataset files exist\n",
    "image_folder = '../../Images'\n",
    "data_file_folder = '../annotator_data'\n",
    "annotator = 'Arnab'\n",
    "to_annotate_file = 'to_annotate_' + annotator + '.csv'\n",
    "keypoints_file = 'KEYPOINTS_DATASET_' + annotator + '.csv'\n",
    "status_file = 'STATUS_' + annotator + '.csv'\n",
    "\n",
    "window_size = (1028,768)"
   ]
  },
  {
   "cell_type": "code",
   "execution_count": 2,
   "metadata": {},
   "outputs": [],
   "source": [
    "import sys\n",
    "\n",
    "sys.path.append('..')"
   ]
  },
  {
   "cell_type": "code",
   "execution_count": 3,
   "metadata": {},
   "outputs": [],
   "source": [
    "import numpy as np\n",
    "import pandas as pd\n",
    "import cv2 as cv\n",
    "import sys\n",
    "import string\n",
    "import os\n",
    "from kp_package.annotation_tool import *"
   ]
  },
  {
   "cell_type": "code",
   "execution_count": 4,
   "metadata": {},
   "outputs": [],
   "source": [
    "#Ordinarily, you will not need to change this\n",
    "#file where keypoint annotations would be saved\n",
    "data_file_path = os.path.join(data_file_folder, keypoints_file)\n",
    "#file where all images that have been annotated will be saved\n",
    "status_file_path = os.path.join(data_file_folder, status_file)\n",
    "#file where list of files to be annotated will be provided by moderator\n",
    "to_annotate_path = os.path.join(data_file_folder, to_annotate_file)\n"
   ]
  },
  {
   "cell_type": "code",
   "execution_count": 5,
   "metadata": {
    "scrolled": true
   },
   "outputs": [
    {
     "name": "stdout",
     "output_type": "stream",
     "text": [
      "Forehead Added with id 1\n",
      "Nose Added with id 2\n",
      "Image anika shade.png completed\n",
      "Want to Continue with next image (y/nn\n",
      "['anika shade.png']\n"
     ]
    }
   ],
   "source": [
    "if(__name__ == \"__main__\"):\n",
    "    \n",
    "    if(os.path.exists(to_annotate_path)):\n",
    "      #If list of images to be annotated has been provided\n",
    "      tmp = pd.read_csv(to_annotate_path)\n",
    "      file_names = tmp['img_id'].values\n",
    "    else:\n",
    "      #else take all images from the images folder\n",
    "      file_names = os.listdir(image_folder)\n",
    "    \n",
    "\n",
    "    if(os.path.exists(data_file_path)):\n",
    "      #If some annotations are already done, load them\n",
    "      data = pd.read_csv(data_file_path, index_col = False)\n",
    "    else:\n",
    "      #Create a new empty dataframe to store annotations and save it to a file\n",
    "      data = pd.DataFrame(columns = ['id', 'pid', 'type', 'x', 'y', 'attr', 'person', 'img_id', 'hidden'])\n",
    "      data.to_csv(data_file_path, index = False)\n",
    "    \n",
    "    if(os.path.exists(status_file_path)):\n",
    "      #If status file exists, load it\n",
    "      completed = pd.read_csv(status_file_path, index_col = False)\n",
    "    else:\n",
    "      #Else create a new empty datasframe and save it to a file\n",
    "      completed = pd.DataFrame(columns = ['file_name','annotator','success', 'sent_for_review', 'accepted'])\n",
    "      completed.to_csv(status_file_path, index = False)\n",
    "    \n",
    "    #To skip already annotated images. Only considers those entries which were completed successfully \n",
    "    completed_files = completed[completed['success'] == True]\n",
    "    completed_files = completed_files['file_name'].values\n",
    "    \n",
    "    \n",
    "    for file_name in file_names:\n",
    "\n",
    "      #To skip annotated images and non image files\n",
    "      if(file_name  in completed_files) or (not (file_name.endswith('.png'))):\n",
    "        continue\n",
    "\n",
    "      file_path = os.path.join(image_folder, file_name)\n",
    "      All_annotations = Final_Annotation()\n",
    "    \n",
    "      img = cv.imread(file_path)\n",
    "      \n",
    "      added = tool_GUI(file_name, All_annotations, img = img, window_size = window_size)\n",
    "      \n",
    "      if(not added):\n",
    "            #If quit without saving annotations\n",
    "            print('no annotations added on the current image. Expunging from the list')\n",
    "            \n",
    "            #Commented portion is most probably not reuqired\n",
    "            '''\n",
    "            new_file = pd.DataFrame({'file_name':[file_name], 'annotator':[annotator], 'success':[False], 'sent_for_review': [False], 'accepted':[False]})\n",
    "            completed = completed.append(new_file, ignore_index = True)\n",
    "      \n",
    "            completed.to_csv(status_file_path, index = False)\n",
    "             '''   \n",
    "            \n",
    "      \n",
    "      else:\n",
    "          a = All_annotations.annotations\n",
    "          add = pd.DataFrame(a)\n",
    "\n",
    "          data = data.append(add, ignore_index = True)\n",
    "\n",
    "          #file operations begin. Ensure integrity\n",
    "          new_file = pd.DataFrame({'file_name':[file_name], 'annotator':[annotator], 'success':[True], 'sent_for_review':[False], 'accepted':[False]})\n",
    "          tmp_path = os.path.join(data_file_folder, 'tmp_keypoints_dataset.csv')\n",
    "          data.to_csv(tmp_path, index = False)\n",
    "          #data stored in temp file\n",
    "\n",
    "          completed = completed.append(new_file, ignore_index = True)\n",
    "\n",
    "          completed.to_csv(status_file_path, index = False)\n",
    "          os.remove(data_file_path)\n",
    "          os.rename(tmp_path,data_file_path)\n",
    "          #File operations completed\n",
    "\n",
    "          print(\"Image \" + file_name + \" completed\")\n",
    "      \n",
    "      inp = input(\"Want to Continue with next image (y/n\")\n",
    "      \n",
    "      if(inp == 'y'):\n",
    "        continue\n",
    "      else:\n",
    "        break\n",
    "\n",
    "    print(completed['file_name'].values)\n"
   ]
  },
  {
   "cell_type": "code",
   "execution_count": null,
   "metadata": {},
   "outputs": [],
   "source": []
  }
 ],
 "metadata": {
  "kernelspec": {
   "display_name": "Python 3",
   "language": "python",
   "name": "python3"
  },
  "language_info": {
   "codemirror_mode": {
    "name": "ipython",
    "version": 3
   },
   "file_extension": ".py",
   "mimetype": "text/x-python",
   "name": "python",
   "nbconvert_exporter": "python",
   "pygments_lexer": "ipython3",
   "version": "3.8.5"
  }
 },
 "nbformat": 4,
 "nbformat_minor": 4
}
