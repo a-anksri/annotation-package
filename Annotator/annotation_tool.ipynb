{
 "cells": [
  {
   "cell_type": "code",
   "execution_count": 1,
   "metadata": {},
   "outputs": [],
   "source": [
    "#Enter folder name where the images and dataset files exist\n",
    "image_folder = '../../Images'\n",
    "data_file_folder = '../../annotator_data'\n",
    "annotator = 'Nikhil'\n",
    "to_annotate_file = 'to_annotate_' + annotator + '.csv'\n",
    "keypoints_file = 'KEYPOINTS_DATASET_' + annotator + '.csv'\n",
    "status_file = 'STATUS_' + annotator + '.csv'\n",
    "\n",
    "window_size = (1028,668)"
   ]
  },
  {
   "cell_type": "code",
   "execution_count": 2,
   "metadata": {},
   "outputs": [],
   "source": [
    "import sys\n",
    "\n",
    "sys.path.append('..')"
   ]
  },
  {
   "cell_type": "code",
   "execution_count": 3,
   "metadata": {},
   "outputs": [],
   "source": [
    "import numpy as np\n",
    "import pandas as pd\n",
    "import cv2 as cv\n",
    "import sys\n",
    "import string\n",
    "import os\n",
    "from kp_package.annotation_tool import *\n",
    "from kp_package.annotation_display import see_annot"
   ]
  },
  {
   "cell_type": "code",
   "execution_count": 4,
   "metadata": {},
   "outputs": [],
   "source": [
    "#Ordinarily, you will not need to change this\n",
    "#file where keypoint annotations would be saved\n",
    "data_file_path = os.path.join(data_file_folder, keypoints_file)\n",
    "#file where all images that have been annotated will be saved\n",
    "status_file_path = os.path.join(data_file_folder, status_file)\n",
    "#file where list of files to be annotated will be provided by moderator\n",
    "to_annotate_path = os.path.join(data_file_folder, to_annotate_file)\n"
   ]
  },
  {
   "cell_type": "code",
   "execution_count": 7,
   "metadata": {
    "scrolled": true
   },
   "outputs": [
    {
     "name": "stderr",
     "output_type": "stream",
     "text": [
      "C:\\Users\\controller.CONTROLLER_OFFI\\AppData\\Local\\Temp\\ipykernel_16944\\2266705430.py:64: FutureWarning: The frame.append method is deprecated and will be removed from pandas in a future version. Use pandas.concat instead.\n",
      "  completed = completed.append(new_file, ignore_index = True)\n"
     ]
    },
    {
     "name": "stdout",
     "output_type": "stream",
     "text": [
      "No remaining Annotations for Bhutan_I14.png. Status Record Expunged\n",
      "Enter 'y' to go to next image, 'n' to quit y\n",
      "No annotation added. Still mark this image as completed? You will not be able to annotate this image further if marked completed (y/n) y\n",
      "Image Bhutan_I16.png completed\n",
      "Enter 'y' to go to next image, 'n' to quit y\n"
     ]
    },
    {
     "name": "stderr",
     "output_type": "stream",
     "text": [
      "C:\\Users\\controller.CONTROLLER_OFFI\\AppData\\Local\\Temp\\ipykernel_16944\\2266705430.py:64: FutureWarning: The frame.append method is deprecated and will be removed from pandas in a future version. Use pandas.concat instead.\n",
      "  completed = completed.append(new_file, ignore_index = True)\n"
     ]
    },
    {
     "name": "stdout",
     "output_type": "stream",
     "text": [
      "No remaining Annotations for Bhutan_I17.png. Status Record Expunged\n",
      "Enter 'y' to go to next image, 'n' to quit n\n"
     ]
    }
   ],
   "source": [
    "if(__name__ == \"__main__\"):\n",
    "    \n",
    "    if(os.path.exists(to_annotate_path)):\n",
    "      #If list of images to be annotated has been provided\n",
    "      tmp = pd.read_csv(to_annotate_path)\n",
    "      file_names = tmp['img_id'].values\n",
    "    else:\n",
    "      #else take all images from the images folder\n",
    "      file_names = os.listdir(image_folder)\n",
    "    \n",
    "\n",
    "    if(os.path.exists(data_file_path)):\n",
    "      #If some annotations are already done, load them\n",
    "      data = pd.read_csv(data_file_path, index_col = False)\n",
    "    else:\n",
    "      #Create a new empty dataframe to store annotations and save it to a file\n",
    "      data = pd.DataFrame(columns = ['id', 'pid', 'type', 'x', 'y', 'attr', 'person', 'img_id', 'hidden'])\n",
    "      data.to_csv(data_file_path, index = False)\n",
    "    \n",
    "    if(os.path.exists(status_file_path)):\n",
    "      #If status file exists, load it\n",
    "      completed = pd.read_csv(status_file_path, index_col = False)\n",
    "    else:\n",
    "      #Else create a new empty datasframe and save it to a file\n",
    "      completed = pd.DataFrame(columns = ['file_name','annotator','success', 'sent_for_review', 'accepted', 'reviewer_remarks', 'reviewer', 'expunge'])\n",
    "      completed.to_csv(status_file_path, index = False)\n",
    "    \n",
    "    #To skip already annotated images. Only considers those entries which were completed successfully \n",
    "    completed_files = completed[completed['success'] == True]\n",
    "    completed_files = completed_files['file_name'].values\n",
    "    all_files = completed['file_name'].values\n",
    "    expunged_files = completed[completed['expunge'] == True]\n",
    "    expunged_files = expunged_files['file_name'].values\n",
    "    \n",
    "    \n",
    "    for file_name in file_names:\n",
    "\n",
    "      #To skip annotated images and non image files\n",
    "      if(file_name  in completed_files) or (file_name in expunged_files) or (not (file_name.endswith('.png'))):\n",
    "        continue\n",
    "\n",
    "      file_path = os.path.join(image_folder, file_name)\n",
    "      All_annotations = Final_Annotation()\n",
    "    \n",
    "      img = cv.imread(file_path)\n",
    "      if(file_name in all_files):\n",
    "          see_annot(data_file_path, status_file_path, window_size, image_folder, data_file_folder, file_name)\n",
    "    \n",
    "      data = pd.read_csv(data_file_path, index_col = False)\n",
    "      this_rec = data[data['img_id'] == file_name]\n",
    "      if(len(this_rec) == 0):\n",
    "            next_id = 0\n",
    "      else:\n",
    "          num = this_rec['person'].values\n",
    "          if(len(num) == 0):\n",
    "            next_id = 0\n",
    "          else:\n",
    "            next_id = max(num) + 1\n",
    "      \n",
    "      added = tool_GUI(file_name, All_annotations, name = file_name, img = img, window_size = window_size, next_id = next_id)\n",
    "      \n",
    "      new_file = pd.DataFrame({'file_name':[file_name], 'annotator':[annotator], 'success':[False], 'sent_for_review':[False], 'accepted':[False], 'reviewer_remarks':[\"Nil\"], 'reviewer':[\"Nil\"], 'expunge':[False]})\n",
    "      if(file_name not in all_files):\n",
    "        completed = completed.append(new_file, ignore_index = True)\n",
    "      \n",
    "      completed.to_csv(status_file_path, index = False) \n",
    "  \n",
    "        \n",
    "            \n",
    "         \n",
    "      \n",
    "      if(added):\n",
    "          a = All_annotations.annotations\n",
    "          add = pd.DataFrame(a)\n",
    "\n",
    "          data = data.append(add, ignore_index = True)\n",
    "          \n",
    "          \n",
    "\n",
    "          #file operations begin. Ensure integrity\n",
    "          \n",
    "          tmp_path = os.path.join(data_file_folder, 'tmp_keypoints_dataset.csv')\n",
    "          data.to_csv(tmp_path, index = False)\n",
    "          os.remove(data_file_path)\n",
    "          os.rename(tmp_path,data_file_path)\n",
    "        \n",
    "          inp = input(\"Want to review annotations for this image? (y/n) \")\n",
    "          if(inp == 'y'):\n",
    "                see_annot(data_file_path, status_file_path, window_size, image_folder, data_file_folder, file_name)\n",
    "\n",
    "\n",
    "          q = input('Mark this image as completed? You will not be able to annotate this image further if marked completed (y/n) ')\n",
    "          if(q == 'y'):\n",
    "                    this_record = completed['file_name'] == file_name\n",
    "                    completed.loc[this_record,'success'] = True\n",
    "                    print(\"Image \" + file_name + \" completed\")\n",
    "          else:\n",
    "                    print(\"Image \" + file_name + \" kept as Incomplete. You can add further annotations when your run the code next time\")\n",
    "          \n",
    "          #data stored in temp file\n",
    "\n",
    "          \n",
    "\n",
    "          \n",
    "          \n",
    "          #File operations completed\n",
    "\n",
    "          \n",
    "      else:\n",
    "        if(len(this_rec) == 0):\n",
    "                        completed = completed[completed['file_name'] != file_name]\n",
    "                        print(\"No remaining Annotations for {}. Status Record Expunged\".format(file_name))\n",
    "        else:            \n",
    "            q = input('No annotation added. Still mark this image as completed? You will not be able to annotate this image further if marked completed (y/n) ')\n",
    "            if(q == 'y'):\n",
    "                    this_record = completed['file_name'] == file_name\n",
    "                    completed.loc[this_record,'success'] = True\n",
    "                    print(\"Image \" + file_name + \" completed\")\n",
    "                    this_rec = data[data['img_id'] == file_name]\n",
    "\n",
    "                        \n",
    "          \n",
    "      \n",
    "      completed.to_csv(status_file_path, index = False)\n",
    "      inp = input(\"Enter 'y' to go to next image, 'n' to quit \")\n",
    "            \n",
    "      \n",
    "    \n",
    "      if(inp == 'y'):\n",
    "        continue\n",
    "      else:\n",
    "        break\n",
    "\n",
    "      print(completed['file_name'].values)\n"
   ]
  },
  {
   "cell_type": "code",
   "execution_count": null,
   "metadata": {},
   "outputs": [],
   "source": []
  },
  {
   "cell_type": "code",
   "execution_count": null,
   "metadata": {},
   "outputs": [],
   "source": []
  },
  {
   "cell_type": "raw",
   "metadata": {},
   "source": []
  },
  {
   "cell_type": "code",
   "execution_count": 6,
   "metadata": {},
   "outputs": [],
   "source": [
    "cv.destroyAllWindows()"
   ]
  },
  {
   "cell_type": "code",
   "execution_count": null,
   "metadata": {},
   "outputs": [],
   "source": []
  }
 ],
 "metadata": {
  "kernelspec": {
   "display_name": "Python 3 (ipykernel)",
   "language": "python",
   "name": "python3"
  },
  "language_info": {
   "codemirror_mode": {
    "name": "ipython",
    "version": 3
   },
   "file_extension": ".py",
   "mimetype": "text/x-python",
   "name": "python",
   "nbconvert_exporter": "python",
   "pygments_lexer": "ipython3",
   "version": "3.10.9"
  }
 },
 "nbformat": 4,
 "nbformat_minor": 4
}
