{
 "cells": [
  {
   "cell_type": "code",
   "execution_count": 6,
   "id": "20e0278b",
   "metadata": {},
   "outputs": [],
   "source": [
    "\n",
    "image_folder = '../../Images'\n",
    "data_file_folder = '../../annotator_data'\n",
    "annotator = 'Nikhil'\n",
    "reviewer = 'Ankur'"
   ]
  },
  {
   "cell_type": "code",
   "execution_count": 7,
   "id": "389a7c9c",
   "metadata": {},
   "outputs": [],
   "source": [
    "import numpy as np\n",
    "import pandas as pd\n",
    "import cv2 as cv\n",
    "import sys\n",
    "import string\n",
    "import os"
   ]
  },
  {
   "cell_type": "code",
   "execution_count": 8,
   "id": "25203f7e",
   "metadata": {},
   "outputs": [],
   "source": [
    "kp_dataset_file = \"KEYPOINTS_DATASET_\" + annotator + '.csv'\n",
    "status_file = 'STATUS_' + annotator + '.csv'\n",
    "offered_file = 'offered_for_review_' + annotator + '.csv'"
   ]
  },
  {
   "cell_type": "code",
   "execution_count": 9,
   "id": "61bae1f9",
   "metadata": {},
   "outputs": [],
   "source": [
    "kp_dataset_path = os.path.join(data_file_folder, kp_dataset_file)\n",
    "status_path = os.path.join(data_file_folder, status_file)\n",
    "offered_path = os.path.join(data_file_folder, offered_file)"
   ]
  },
  {
   "cell_type": "code",
   "execution_count": 10,
   "id": "6c2af2ea",
   "metadata": {},
   "outputs": [],
   "source": [
    "kp_dataset = pd.read_csv(kp_dataset_path, index_col = False)\n",
    "status = pd.read_csv(status_path, index_col = False)\n",
    "\n",
    "\n",
    "sent = status[status['sent_for_review'] == True ]\n",
    "sent = sent['file_name'].values\n",
    "all = status['file_name'].values\n",
    "complete = status[status['success'] == True]\n",
    "complete = complete['file_name'].values\n",
    "\n",
    "\n",
    "for im in all:\n",
    "     if(( im in sent) or (im not in complete)):\n",
    "         kp_dataset = kp_dataset[kp_dataset['img_id'] != im]\n",
    "     else:\n",
    "         record = status['file_name'] == im\n",
    "         status.loc[record,'sent_for_review'] = True\n",
    "     \n",
    "     \n",
    "\n",
    "\n",
    "\n",
    "kp_dataset.to_csv(offered_path, index = False)\n",
    "\n",
    "status.to_csv(status_path, index = False)"
   ]
  },
  {
   "cell_type": "code",
   "execution_count": null,
   "id": "721aaf50",
   "metadata": {},
   "outputs": [],
   "source": []
  }
 ],
 "metadata": {
  "kernelspec": {
   "display_name": "Python 3 (ipykernel)",
   "language": "python",
   "name": "python3"
  },
  "language_info": {
   "codemirror_mode": {
    "name": "ipython",
    "version": 3
   },
   "file_extension": ".py",
   "mimetype": "text/x-python",
   "name": "python",
   "nbconvert_exporter": "python",
   "pygments_lexer": "ipython3",
   "version": "3.9.13"
  }
 },
 "nbformat": 4,
 "nbformat_minor": 5
}
