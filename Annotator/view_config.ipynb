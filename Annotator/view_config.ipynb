{
 "cells": [
  {
   "cell_type": "code",
   "execution_count": 3,
   "id": "5c90506d",
   "metadata": {},
   "outputs": [
    {
     "name": "stdout",
     "output_type": "stream",
     "text": [
      "{'im_pth': '../../annotator_data'}\n"
     ]
    }
   ],
   "source": [
    "import os\n",
    "import sys\n",
    "import pickle\n",
    "pth = '../../annotator_data/config'\n",
    "if(os.path.exists(pth)):\n",
    "    f = open(pth, 'rb')\n",
    "    dic = pickle.load(f)\n",
    "    f.close()\n",
    "    print(dic)\n",
    "else:\n",
    "    print(\"No config file available\")"
   ]
  },
  {
   "cell_type": "code",
   "execution_count": null,
   "id": "5625fc74",
   "metadata": {},
   "outputs": [],
   "source": []
  }
 ],
 "metadata": {
  "kernelspec": {
   "display_name": "Python 3 (ipykernel)",
   "language": "python",
   "name": "python3"
  },
  "language_info": {
   "codemirror_mode": {
    "name": "ipython",
    "version": 3
   },
   "file_extension": ".py",
   "mimetype": "text/x-python",
   "name": "python",
   "nbconvert_exporter": "python",
   "pygments_lexer": "ipython3",
   "version": "3.9.13"
  }
 },
 "nbformat": 4,
 "nbformat_minor": 5
}
