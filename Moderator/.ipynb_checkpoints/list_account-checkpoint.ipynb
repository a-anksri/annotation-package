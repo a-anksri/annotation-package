{
 "cells": [
  {
   "cell_type": "code",
   "execution_count": null,
   "id": "a772fd56",
   "metadata": {},
   "outputs": [],
   "source": [
    "import pickle\n",
    "import os\n",
    "import pandas as pd\n",
    "\n",
    "if(os.path.exists('accounts')):\n",
    "    f = open('accounts', 'rb')\n",
    "    accounts = pickle.load(f)\n",
    "    f.close()\n",
    "else:\n",
    "    print(\"no accounts exist\")\n",
    "\n",
    "print(accounts)\n"
   ]
  }
 ],
 "metadata": {
  "kernelspec": {
   "display_name": "Python 3 (ipykernel)",
   "language": "python",
   "name": "python3"
  },
  "language_info": {
   "codemirror_mode": {
    "name": "ipython",
    "version": 3
   },
   "file_extension": ".py",
   "mimetype": "text/x-python",
   "name": "python",
   "nbconvert_exporter": "python",
   "pygments_lexer": "ipython3",
   "version": "3.9.13"
  }
 },
 "nbformat": 4,
 "nbformat_minor": 5
}
