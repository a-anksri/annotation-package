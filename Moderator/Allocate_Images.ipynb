{
 "cells": [
  {
   "cell_type": "code",
   "execution_count": 4,
   "metadata": {},
   "outputs": [
    {
     "name": "stdout",
     "output_type": "stream",
     "text": [
      "{0: 'Ankur Srivastava', 1: 'Astha Srivastava', 2: 'Aanya Srivastava', 3: 'Tushar', 4: 'Nitila'}\n",
      "Enter Annotator Id: 4\n",
      "Enter Number of images to allocate: 100\n",
      "Allocation file created\n"
     ]
    },
    {
     "name": "stderr",
     "output_type": "stream",
     "text": [
      "C:\\Users\\hp\\AppData\\Local\\Temp\\ipykernel_21052\\775629164.py:32: SettingWithCopyWarning: \n",
      "A value is trying to be set on a copy of a slice from a DataFrame.\n",
      "Try using .loc[row_indexer,col_indexer] = value instead\n",
      "\n",
      "See the caveats in the documentation: https://pandas.pydata.org/pandas-docs/stable/user_guide/indexing.html#returning-a-view-versus-a-copy\n",
      "  allocate['annotator_id'] = a\n"
     ]
    }
   ],
   "source": [
    "import numpy\n",
    "import os\n",
    "import pandas as pd\n",
    "import pickle\n",
    "import sys\n",
    "\n",
    "data = pd.read_csv('annotation_list.csv', index_col = False)\n",
    "\n",
    "fresh = data[data['annotator_id'] == -1]\n",
    "stale = data[data['annotator_id'] != -1]\n",
    "\n",
    "if(os.path.exists('accounts')):\n",
    "    f = open('accounts', 'rb')\n",
    "    accounts = pickle.load(f)\n",
    "    f.close()\n",
    "else:\n",
    "    print(\"no accounts exist\")\n",
    "    sys.exit(0)\n",
    "\n",
    "print(accounts)\n",
    "\n",
    "\n",
    "a = int(input(\"Enter Annotator Id: \"))\n",
    "\n",
    "if(a == -1):\n",
    "    sys.exit(0)\n",
    "    \n",
    "b = int(input(\"Enter Number of images to allocate: \"))\n",
    "allocate = fresh[:b]\n",
    "remain = fresh[b:]\n",
    "\n",
    "allocate['annotator_id'] = a\n",
    "\n",
    "to_annotate = allocate\n",
    "\n",
    "new_data = pd.concat([stale, allocate, remain], ignore_index = True)\n",
    "\n",
    "selected_data = new_data[new_data['annotator_id'] == a]\n",
    "\n",
    "new_data.to_csv('annotation_list.csv', index = False)\n",
    "selected_data.to_csv('to_annotate_{}.csv'.format(a), index = False)\n",
    "print(\"Allocation file created\")\n",
    "\n"
   ]
  },
  {
   "cell_type": "code",
   "execution_count": null,
   "metadata": {},
   "outputs": [],
   "source": []
  }
 ],
 "metadata": {
  "kernelspec": {
   "display_name": "Python 3 (ipykernel)",
   "language": "python",
   "name": "python3"
  },
  "language_info": {
   "codemirror_mode": {
    "name": "ipython",
    "version": 3
   },
   "file_extension": ".py",
   "mimetype": "text/x-python",
   "name": "python",
   "nbconvert_exporter": "python",
   "pygments_lexer": "ipython3",
   "version": "3.9.13"
  }
 },
 "nbformat": 4,
 "nbformat_minor": 4
}
