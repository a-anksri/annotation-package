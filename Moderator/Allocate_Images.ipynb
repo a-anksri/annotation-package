{
 "cells": [
  {
   "cell_type": "code",
   "execution_count": 3,
   "metadata": {},
   "outputs": [
    {
     "name": "stdout",
     "output_type": "stream",
     "text": [
      "Enter Annotator Id4\n",
      "Allocation file created\n"
     ]
    },
    {
     "name": "stderr",
     "output_type": "stream",
     "text": [
      "<ipython-input-3-49f3071e2b1a>:15: SettingWithCopyWarning: \n",
      "A value is trying to be set on a copy of a slice from a DataFrame.\n",
      "Try using .loc[row_indexer,col_indexer] = value instead\n",
      "\n",
      "See the caveats in the documentation: https://pandas.pydata.org/pandas-docs/stable/user_guide/indexing.html#returning-a-view-versus-a-copy\n",
      "  allocate['annotator_id'] = a\n"
     ]
    }
   ],
   "source": [
    "import numpy\n",
    "import os\n",
    "import pandas as pd\n",
    "\n",
    "data = pd.read_csv('annotation_list.csv', index_col = False)\n",
    "\n",
    "fresh = data[data['annotator_id'] == -1]\n",
    "stale = data[data['annotator_id'] != -1]\n",
    "\n",
    "\n",
    "a = int(input(\"Enter Annotator Id \"))\n",
    "allocate = fresh[:200]\n",
    "remain = fresh[200:]\n",
    "\n",
    "allocate['annotator_id'] = a\n",
    "\n",
    "to_annotate = allocate\n",
    "\n",
    "new_data = pd.concat([stale, allocate, remain], ignore_index = True)\n",
    "\n",
    "new_data.to_csv('annotation_list.csv', index = False)\n",
    "to_annotate.to_csv('to_annotate_{}.csv'.format(a), index = False)\n",
    "print(\"Allocation file created\")\n",
    "\n"
   ]
  },
  {
   "cell_type": "code",
   "execution_count": null,
   "metadata": {},
   "outputs": [],
   "source": []
  }
 ],
 "metadata": {
  "kernelspec": {
   "display_name": "Python 3",
   "language": "python",
   "name": "python3"
  },
  "language_info": {
   "codemirror_mode": {
    "name": "ipython",
    "version": 3
   },
   "file_extension": ".py",
   "mimetype": "text/x-python",
   "name": "python",
   "nbconvert_exporter": "python",
   "pygments_lexer": "ipython3",
   "version": "3.8.5"
  }
 },
 "nbformat": 4,
 "nbformat_minor": 4
}
