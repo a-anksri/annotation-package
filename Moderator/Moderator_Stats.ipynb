{
 "cells": [
  {
   "cell_type": "code",
   "execution_count": null,
   "id": "206503b0",
   "metadata": {},
   "outputs": [],
   "source": [
    "import os\n",
    "import sys\n",
    "import pickle\n",
    "import pandas as pd\n",
    "\n",
    "pth = '../../moderator_data/annotation_list.csv'\n",
    "acc_pth = '../../moderator_data/accounts'\n",
    "\n",
    "data = pd.read_csv(pth, index_col = False)\n",
    "\n",
    "fresh = data[data['annotator_id'] == -1]\n",
    "stale = data[data['annotator_id'] != -1]\n",
    "\n",
    "if(os.path.exists(acc_pth)):\n",
    "    f = open(acc_pth, 'rb')\n",
    "    accounts = pickle.load(f)\n",
    "    f.close()\n",
    "else:\n",
    "    print(\"no accounts exist\")\n",
    "    sys.exit(0)\n",
    "\n",
    "print(accounts)\n",
    "\n",
    "a = int(input(\"Enter Annotator Id: \"))\n",
    "\n",
    "if(a not in accounts.keys):\n",
    "    sys.exit(0)\n",
    "    \n",
    "file_path = '../../to_annotate_{}'.format(a)\n",
    "\n",
    "allocated = pd.read_csv(file_path, index-col = False)\n",
    "accepted = pd.read_csv(accepted_file_path, index_col = False)\n",
    "\n",
    "new"
   ]
  }
 ],
 "metadata": {
  "kernelspec": {
   "display_name": "Python 3 (ipykernel)",
   "language": "python",
   "name": "python3"
  },
  "language_info": {
   "codemirror_mode": {
    "name": "ipython",
    "version": 3
   },
   "file_extension": ".py",
   "mimetype": "text/x-python",
   "name": "python",
   "nbconvert_exporter": "python",
   "pygments_lexer": "ipython3",
   "version": "3.9.13"
  }
 },
 "nbformat": 4,
 "nbformat_minor": 5
}
