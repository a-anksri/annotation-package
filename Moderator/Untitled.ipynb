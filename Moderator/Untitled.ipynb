{
 "cells": [
  {
   "cell_type": "code",
   "execution_count": 2,
   "id": "581208fb",
   "metadata": {},
   "outputs": [],
   "source": [
    "import numpy\n",
    "import os\n",
    "import pandas as pd\n",
    "\n",
    "path = '../../Images'\n",
    "\n",
    "lis = os.listdir(path)\n",
    "\n",
    "data = pd.DataFrame({'img_list':lis})\n",
    "\n",
    "data.to_csv('img_list.csv', index = False)\n"
   ]
  },
  {
   "cell_type": "code",
   "execution_count": null,
   "id": "102281e6",
   "metadata": {},
   "outputs": [],
   "source": [
    "import pickle\n",
    "import os\n",
    "import pandas as pd\n",
    "\n",
    "if(os.path.exists('img_list'):\n",
    "    f = open('img_list', 'rb')\n",
    "    img_list = pickle.load(f)\n",
    "    f.close()\n",
    "    \n",
    "else:\n",
    "    print(\"no image list to allocate\")\n",
    "    exit\n",
    "\n",
    "if(os.path.exists('accounts'):\n",
    "    f = open('accounts', 'rb')\n",
    "    accounts = pickle.load(f)\n",
    "    f.close()\n",
    "else:\n",
    "    print(\"No accounts yet\")\n",
    "    exit\n",
    "\n",
    "if(os.path.exists('to_annotate'):\n",
    "    f = open('to_annotate', 'rb')\n",
    "    to_annotate = pickle.load(f)\n",
    "    f.close()\n",
    "else:\n",
    "    to_annotate = {}\n",
    "    \n",
    "\n",
    "if(os.path.exists('allocated'):\n",
    "    f = open('allocated', 'rb')\n",
    "    allocated = pickle.load(f)\n",
    "    f.close()\n",
    "    allocated = allocated[0]\n",
    "else:\n",
    "    allocated = [0]\n",
    "print(accounts)\n",
    "\n",
    "a = int(input(\"Enter Account id\"))\n",
    "\n",
    "current_list = to_annotate[a]\n",
    "\n",
    "new_list = img_list[allocated:allocated + 100]\n",
    "current_list = current_list + new_list\n",
    "\n",
    "pd.to_csv(current\n",
    "\n",
    "\n",
    "\n",
    "\n",
    "\n",
    "f = open('accounts', 'w')\n",
    "pickle.dump(f, accounts)\n",
    "f.close()"
   ]
  }
 ],
 "metadata": {
  "kernelspec": {
   "display_name": "Python 3 (ipykernel)",
   "language": "python",
   "name": "python3"
  },
  "language_info": {
   "codemirror_mode": {
    "name": "ipython",
    "version": 3
   },
   "file_extension": ".py",
   "mimetype": "text/x-python",
   "name": "python",
   "nbconvert_exporter": "python",
   "pygments_lexer": "ipython3",
   "version": "3.9.13"
  }
 },
 "nbformat": 4,
 "nbformat_minor": 5
}
