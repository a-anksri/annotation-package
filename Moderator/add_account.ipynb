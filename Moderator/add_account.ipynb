{
 "cells": [
  {
   "cell_type": "code",
   "execution_count": 1,
   "id": "4f87648d",
   "metadata": {},
   "outputs": [
    {
     "name": "stdout",
     "output_type": "stream",
     "text": [
      "Enter Name: Nitila\n",
      "assigned id: 4\n"
     ]
    }
   ],
   "source": [
    "import pickle\n",
    "import os\n",
    "import pandas as pd\n",
    "\n",
    "if(os.path.exists('accounts')):\n",
    "    f = open('accounts', 'rb')\n",
    "    accounts = pickle.load(f)\n",
    "    f.close()\n",
    "else:\n",
    "    accounts = {}\n",
    "    \n",
    "\n",
    "name = input(\"Enter Name: \")\n",
    "id = len(accounts)\n",
    "\n",
    "print(\"assigned id: {}\".format(id))\n",
    "\n",
    "accounts[id] = name\n",
    "\n",
    "config = {}\n",
    "config['name'] = name\n",
    "config['id'] = id\n",
    "\n",
    "f = open('root_config', 'wb')\n",
    "\n",
    "pickle.dump(config, f)\n",
    "f.close()\n",
    "\n",
    "f = open('accounts', 'wb')\n",
    "pickle.dump(accounts, f)\n",
    "f.close()\n"
   ]
  },
  {
   "cell_type": "code",
   "execution_count": null,
   "id": "5660409d",
   "metadata": {},
   "outputs": [],
   "source": []
  }
 ],
 "metadata": {
  "kernelspec": {
   "display_name": "Python 3 (ipykernel)",
   "language": "python",
   "name": "python3"
  },
  "language_info": {
   "codemirror_mode": {
    "name": "ipython",
    "version": 3
   },
   "file_extension": ".py",
   "mimetype": "text/x-python",
   "name": "python",
   "nbconvert_exporter": "python",
   "pygments_lexer": "ipython3",
   "version": "3.9.13"
  }
 },
 "nbformat": 4,
 "nbformat_minor": 5
}
