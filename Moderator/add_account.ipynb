{
 "cells": [
  {
   "cell_type": "code",
   "execution_count": 5,
   "id": "4f87648d",
   "metadata": {},
   "outputs": [
    {
     "name": "stdout",
     "output_type": "stream",
     "text": [
      "Enter Name: Nitila\n",
      "assigned id: 4\n"
     ]
    }
   ],
   "source": [
    "import pickle\n",
    "import os\n",
    "import pandas as pd\n",
    "\n",
    "pth = '../../moderator_data/accounts'\n",
    "\n",
    "if(os.path.exists(pth)):\n",
    "    f = open(pth, 'rb')\n",
    "    accounts = pickle.load(f)\n",
    "    f.close()\n",
    "else:\n",
    "    accounts = {}\n",
    "    \n",
    "\n",
    "name = input(\"Enter Name: \")\n",
    "id = len(accounts)\n",
    "\n",
    "\n",
    "\n",
    "accounts[id] = name\n",
    "\n",
    "config = {}\n",
    "config['name'] = name\n",
    "config['id'] = id\n",
    "\n",
    "f = open('../../moderator_data/root_config', 'wb')\n",
    "\n",
    "pickle.dump(config, f)\n",
    "f.close()\n",
    "\n",
    "f = open(pth, 'wb')\n",
    "pickle.dump(accounts, f)\n",
    "f.close()\n",
    "\n",
    "print(\"assigned id: {}\".format(id))\n",
    "print(\"root_config file is in moderator_data folder\")\n"
   ]
  },
  {
   "cell_type": "code",
   "execution_count": null,
   "id": "5660409d",
   "metadata": {},
   "outputs": [],
   "source": []
  }
 ],
 "metadata": {
  "kernelspec": {
   "display_name": "Python 3 (ipykernel)",
   "language": "python",
   "name": "python3"
  },
  "language_info": {
   "codemirror_mode": {
    "name": "ipython",
    "version": 3
   },
   "file_extension": ".py",
   "mimetype": "text/x-python",
   "name": "python",
   "nbconvert_exporter": "python",
   "pygments_lexer": "ipython3",
   "version": "3.9.13"
  }
 },
 "nbformat": 4,
 "nbformat_minor": 5
}
