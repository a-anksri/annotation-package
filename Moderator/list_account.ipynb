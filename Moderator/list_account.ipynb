{
 "cells": [
  {
   "cell_type": "code",
   "execution_count": 4,
   "id": "14562538",
   "metadata": {},
   "outputs": [
    {
     "name": "stdout",
     "output_type": "stream",
     "text": [
      "{0: 'Ankur Srivastava', 1: 'Aanya Srivastava', 2: 'Anika Srivastava', 3: 'Tushar', 4: 'Nitila'}\n"
     ]
    }
   ],
   "source": [
    "import pickle\n",
    "import os\n",
    "import sys\n",
    "import pandas as pd\n",
    "\n",
    "pth = '../../moderator_data/accounts'\n",
    "if(os.path.exists(pth)):\n",
    "    f = open(pth, 'rb')\n",
    "    accounts = pickle.load(f)\n",
    "    f.close()\n",
    "else:\n",
    "    print(\"no accounts exist\")\n",
    "    sys.exit()\n",
    "\n",
    "print(accounts)\n"
   ]
  },
  {
   "cell_type": "code",
   "execution_count": null,
   "id": "a3c939ee",
   "metadata": {},
   "outputs": [],
   "source": []
  }
 ],
 "metadata": {
  "kernelspec": {
   "display_name": "Python 3 (ipykernel)",
   "language": "python",
   "name": "python3"
  },
  "language_info": {
   "codemirror_mode": {
    "name": "ipython",
    "version": 3
   },
   "file_extension": ".py",
   "mimetype": "text/x-python",
   "name": "python",
   "nbconvert_exporter": "python",
   "pygments_lexer": "ipython3",
   "version": "3.9.13"
  }
 },
 "nbformat": 4,
 "nbformat_minor": 5
}
