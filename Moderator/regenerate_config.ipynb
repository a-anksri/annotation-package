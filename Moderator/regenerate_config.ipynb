{
 "cells": [
  {
   "cell_type": "code",
   "execution_count": 3,
   "id": "91c03f38",
   "metadata": {},
   "outputs": [
    {
     "name": "stdout",
     "output_type": "stream",
     "text": [
      "{0: 'Ankur Srivastava', 1: 'Aanya Srivastava', 2: 'Anika Srivastava', 3: 'Tushar', 4: 'Nitila'}\n",
      "Enter Id to regenerate config: 0\n",
      "Root config file generated and is in moderator_data folder\n"
     ]
    }
   ],
   "source": [
    "import pickle\n",
    "import os\n",
    "import pandas as pd\n",
    "\n",
    "pth = '../../moderator_data'\n",
    "if(os.path.exists(pth + '/accounts')):\n",
    "    f = open(pth + '/accounts', 'rb')\n",
    "    accounts = pickle.load(f)\n",
    "    f.close()\n",
    "else:\n",
    "    print(\"No accounts\")\n",
    "    \n",
    "print(accounts)\n",
    "a = int(input(\"Enter Id to regenerate config: \"))\n",
    "\n",
    "\n",
    "\n",
    "\n",
    "config = {}\n",
    "config['id'] = a\n",
    "config['name'] = accounts[a]\n",
    "\n",
    "f = open(pth + '/root_config', 'wb')\n",
    "pickle.dump(config, f)\n",
    "f.close()\n",
    "\n",
    "print(\"Root config file generated and is in moderator_data folder\")\n"
   ]
  },
  {
   "cell_type": "code",
   "execution_count": null,
   "id": "2aaefecf",
   "metadata": {},
   "outputs": [],
   "source": []
  }
 ],
 "metadata": {
  "kernelspec": {
   "display_name": "Python 3 (ipykernel)",
   "language": "python",
   "name": "python3"
  },
  "language_info": {
   "codemirror_mode": {
    "name": "ipython",
    "version": 3
   },
   "file_extension": ".py",
   "mimetype": "text/x-python",
   "name": "python",
   "nbconvert_exporter": "python",
   "pygments_lexer": "ipython3",
   "version": "3.9.13"
  }
 },
 "nbformat": 4,
 "nbformat_minor": 5
}
