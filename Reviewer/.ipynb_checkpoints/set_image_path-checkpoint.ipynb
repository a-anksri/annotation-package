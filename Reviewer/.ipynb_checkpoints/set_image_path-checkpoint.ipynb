{
 "cells": [
  {
   "cell_type": "code",
   "execution_count": 5,
   "id": "91f9b0fe",
   "metadata": {},
   "outputs": [
    {
     "name": "stdout",
     "output_type": "stream",
     "text": [
      "Current Path to Images folder: ../../../Images\n",
      "Do you want to change? (y/n) y\n",
      "Enter New Path ../../annotator_data\n",
      "Set Images Path to ../../annotator_data\n"
     ]
    }
   ],
   "source": [
    "import os\n",
    "import sys\n",
    "import pickle\n",
    "pth = '../../reviewer_data/config'\n",
    "if(os.path.exists(pth)):\n",
    "    f = open(pth, 'rb')\n",
    "    dic = pickle.load(f)\n",
    "    f.close()\n",
    "    im_pth = dic.get('im_pth', '../../../Images')\n",
    "else:\n",
    "    dic = {}\n",
    "    im_pth = '../../../Images'\n",
    "    dic['im_pth'] = im_pth\n",
    "    \n",
    "print(\"Current Path to Images folder: \" + im_pth)\n",
    "a = input(\"Do you want to change? (y/n) \")\n",
    "if (a == 'y') or (a == 'Y'):\n",
    "    \n",
    "    while(True):\n",
    "        tmp = input(\"Enter New Path \")\n",
    "        if(os.path.exists(tmp)):\n",
    "            im_pth = tmp\n",
    "            break\n",
    "        if(tmp == '-1'):\n",
    "            break\n",
    "        print(\"Given path does not exist. Try Again. Enter -1 to exit without changing\")\n",
    "    \n",
    "\n",
    "dic['im_pth'] = im_pth\n",
    "f = open(pth, 'wb')\n",
    "pickle.dump(dic,f)\n",
    "f.close()\n",
    "print(\"Set Images Path to \" + im_pth)\n",
    "    \n",
    "        \n",
    "    \n",
    "    "
   ]
  },
  {
   "cell_type": "code",
   "execution_count": null,
   "id": "cd407a53",
   "metadata": {},
   "outputs": [],
   "source": []
  }
 ],
 "metadata": {
  "kernelspec": {
   "display_name": "Python 3 (ipykernel)",
   "language": "python",
   "name": "python3"
  },
  "language_info": {
   "codemirror_mode": {
    "name": "ipython",
    "version": 3
   },
   "file_extension": ".py",
   "mimetype": "text/x-python",
   "name": "python",
   "nbconvert_exporter": "python",
   "pygments_lexer": "ipython3",
   "version": "3.9.13"
  }
 },
 "nbformat": 4,
 "nbformat_minor": 5
}
