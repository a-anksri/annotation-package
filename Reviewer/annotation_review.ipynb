{
 "cells": [
  {
   "cell_type": "code",
   "execution_count": 30,
   "metadata": {},
   "outputs": [],
   "source": [
    "import pickle\n",
    "import os\n",
    "#Enter folder name where the images and dataset files exist\n",
    "image_folder = '../../Images'\n",
    "data_file_folder = '../../reviewer_data'\n",
    "annotator = 'Nikhil'\n",
    "reviewer = 'Ankur'\n",
    "\n",
    "###\n",
    "root_config_path = '../../root_config'\n",
    "if(os.path.exists(root_config_path)):\n",
    "    f = open(root_config_path, 'rb')\n",
    "    root_config = pickle.load(f)\n",
    "    f.close()\n",
    "    reviewer_id = root_config['id']\n",
    "    reviewer = root_config['name']\n",
    "else:\n",
    "    print('Not Configured. Please Obtain Configuration File')\n",
    "\n",
    "\n",
    "\n",
    "###### changed\n",
    "file_list = os.listdir(data_file_folder)\n",
    "results_files = {}\n",
    "count = 0\n",
    "for file in file_list:\n",
    "    if \"offered_for_review\" in file:\n",
    "        results_files[count] = file\n",
    "        count += 1\n",
    "\n",
    "if(len(results_files) == 1):\n",
    "    keypoints_file = results_files[0]\n",
    "   \n",
    "elif(len(results_files) == 0):\n",
    "    print(\"No results to review\")\n",
    "    exit\n",
    "else:\n",
    "  print(results_files)\n",
    "  a = input(\"Enter Sl No of the results file you want to ingest\")\n",
    "  if(a < 0 or a > len(results_files)):\n",
    "    print(\"Invalid input\")\n",
    "    exit\n",
    "  keypoints_file = results_files[a]\n",
    "\n",
    "\n",
    "review_file = 'review_results_' + keypoints_file\n",
    "\n",
    "#Change if file names are not in the same format as suggested below\n",
    "#keypoints_file = 'offered_for_review_' + annotator +'.csv'\n",
    "\n",
    "to_review_file = 'to_review_' + annotator + '_' + reviewer + '.csv'\n",
    "accepted_file = \"ACCEPTED_{}\".format(reviewer_id) + '.csv'\n",
    "expunged_file = \"EXPUNGED_{}\".format(reviewer_id) + '.csv'\n",
    "\n",
    "window_size = (1028,668)"
   ]
  },
  {
   "cell_type": "code",
   "execution_count": 31,
   "metadata": {},
   "outputs": [],
   "source": [
    "import sys\n",
    "\n",
    "sys.path.append('..')"
   ]
  },
  {
   "cell_type": "code",
   "execution_count": 32,
   "metadata": {},
   "outputs": [],
   "source": [
    "import numpy as np\n",
    "import pandas as pd\n",
    "import cv2 as cv\n",
    "import sys\n",
    "import string\n",
    "import os\n",
    "from kp_package.annotation_review import *"
   ]
  },
  {
   "cell_type": "code",
   "execution_count": 33,
   "metadata": {},
   "outputs": [],
   "source": [
    "#Ordinarily, you will not need to change this\n",
    "#file where keypoint annotations would be saved\n",
    "kp_dataset_path = os.path.join(data_file_folder, keypoints_file)\n",
    "#file where list of files to be reviewed will be provided by moderator\n",
    "to_review_path = os.path.join(data_file_folder, to_review_file)\n",
    "#file where list of images that have been accepted after review shall be saved. Not required for annotation_tool\n",
    "review_file_path = os.path.join(data_file_folder, review_file)\n",
    "accepted_file_path = os.path.join(data_file_folder, accepted_file)\n",
    "expunged_file_path = os.path.join(data_file_folder, expunged_file)"
   ]
  },
  {
   "cell_type": "code",
   "execution_count": 34,
   "metadata": {},
   "outputs": [
    {
     "name": "stdout",
     "output_type": "stream",
     "text": [
      "Enter starting number of first image to review0\n",
      "Is annotation satisfactory? (y/n/e/s). e to expunge ; s to skip review y\n",
      "show next image in folder? (y/n) y\n",
      "Review for offered_for_review_1_0.csv completed. The file has been deleted\n"
     ]
    }
   ],
   "source": [
    "if(__name__ == '__main__'):\n",
    "    \n",
    "    while(True):\n",
    "        review(kp_dataset_path, accepted_file_path, to_review_path, review_file_path, expunged_file_path, window_size = window_size, image_folder = image_folder, reviewer = reviewer )\n",
    "\n",
    "\n",
    "        kp_dataset = pd.read_csv(kp_dataset_path, index_col = False)\n",
    "        results_dataset = pd.read_csv(review_file_path, index_col = False)\n",
    "\n",
    "        kp_files = kp_dataset['img_id'].values\n",
    "        result_files = results_dataset['img_id'].values\n",
    "        count = 0\n",
    "        for im in kp_files:\n",
    "            if(im not in result_files):\n",
    "                count += 1\n",
    "\n",
    "        \n",
    "        x = 'n'\n",
    "        if(count == 0):\n",
    "            os.remove(kp_dataset_path)\n",
    "            print(\"Review for \" + keypoints_file + \" completed. The file has been deleted\")\n",
    "\n",
    "        else:\n",
    "            print(\"ALERT: All offered images have not been annotated. Run program again to complete\")\n",
    "            x = input(\"Complete Review now? (y/n) \")\n",
    "        if(x == 'y'):\n",
    "            continue\n",
    "        else:\n",
    "            break\n",
    "        \n",
    "        \n",
    "        \n",
    "    "
   ]
  },
  {
   "cell_type": "code",
   "execution_count": 6,
   "metadata": {},
   "outputs": [],
   "source": [
    "cv.destroyAllWindows()"
   ]
  },
  {
   "cell_type": "code",
   "execution_count": null,
   "metadata": {},
   "outputs": [],
   "source": []
  }
 ],
 "metadata": {
  "kernelspec": {
   "display_name": "Python 3",
   "language": "python",
   "name": "python3"
  },
  "language_info": {
   "codemirror_mode": {
    "name": "ipython",
    "version": 3
   },
   "file_extension": ".py",
   "mimetype": "text/x-python",
   "name": "python",
   "nbconvert_exporter": "python",
   "pygments_lexer": "ipython3",
   "version": "3.8.5"
  }
 },
 "nbformat": 4,
 "nbformat_minor": 4
}
