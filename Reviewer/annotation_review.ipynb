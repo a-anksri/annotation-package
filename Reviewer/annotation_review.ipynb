{
 "cells": [
  {
   "cell_type": "code",
   "execution_count": 1,
   "metadata": {},
   "outputs": [],
   "source": [
    "#Enter folder name where the images and dataset files exist\n",
    "image_folder = '../../Images'\n",
    "data_file_folder = '../reviewer_data'\n",
    "annotator = 'Arnab'\n",
    "reviewer = 'Ankur'\n",
    "\n",
    "#Change if file names are not in the same format as suggested below\n",
    "keypoints_file = 'offered_for_review_' + annotator +'.csv'\n",
    "review_file = 'review_results_' + annotator + '_' + reviewer + '.csv'\n",
    "to_review_file = 'to_review_' + annotator + '_' + reviewer + '.csv'\n",
    "accepted_file = \"ACCEPTED_\" + annotator + '_' + reviewer + '.csv'\n",
    "expunged_file = \"EXPUNGED_\" + annotator + '_' + reviewer + '.csv'\n",
    "\n",
    "window_size = (1028,768)"
   ]
  },
  {
   "cell_type": "code",
   "execution_count": 2,
   "metadata": {},
   "outputs": [],
   "source": [
    "import sys\n",
    "\n",
    "sys.path.append('..')"
   ]
  },
  {
   "cell_type": "code",
   "execution_count": 3,
   "metadata": {},
   "outputs": [],
   "source": [
    "import numpy as np\n",
    "import pandas as pd\n",
    "import cv2 as cv\n",
    "import sys\n",
    "import string\n",
    "import os\n",
    "from kp_package.annotation_review import *"
   ]
  },
  {
   "cell_type": "code",
   "execution_count": 4,
   "metadata": {},
   "outputs": [],
   "source": [
    "#Ordinarily, you will not need to change this\n",
    "#file where keypoint annotations would be saved\n",
    "kp_dataset_path = os.path.join(data_file_folder, keypoints_file)\n",
    "#file where list of files to be reviewed will be provided by moderator\n",
    "to_review_path = os.path.join(data_file_folder, to_review_file)\n",
    "#file where list of images that have been accepted after review shall be saved. Not required for annotation_tool\n",
    "review_file_path = os.path.join(data_file_folder, review_file)\n",
    "accepted_file_path = os.path.join(data_file_folder, accepted_file)\n",
    "expunged_file_path = os.path.join(data_file_folder, expunged_file)"
   ]
  },
  {
   "cell_type": "code",
   "execution_count": 7,
   "metadata": {},
   "outputs": [
    {
     "name": "stdout",
     "output_type": "stream",
     "text": [
      "Enter starting number of first image to review0\n",
      "Is annotation satisfactory? (y/n). s to skip review n\n",
      "Any remarks? Woman in right corner: Left Shoulder marked as ear, one leg not annotated. WOman on right, not completely annotated\n",
      "show next image in folder? (y/n) y\n",
      "Is annotation satisfactory? (y/n). s to skip review s\n",
      "show next image in folder? (y/n) y\n",
      "Is annotation satisfactory? (y/n). s to skip review y\n",
      "show next image in folder? (y/n) y\n",
      "Is annotation satisfactory? (y/n). s to skip review n\n",
      "Any remarks? agree. Expunge annotation and remove this image from your folder\n",
      "show next image in folder? (y/n) y\n",
      "Is annotation satisfactory? (y/n). s to skip review s\n",
      "show next image in folder? (y/n) n\n",
      "ALERT: All offered images have not been annotated. Run program again to complete\n",
      "Complete Review now? (y/n) y\n",
      "Enter starting number of first image to review0\n",
      "Is annotation satisfactory? (y/n). s to skip review n\n",
      "Any remarks? left ear is taken as lower tip. not consistent. If not visible, you can just skip this landmark\n",
      "show next image in folder? (y/n) y\n",
      "Is annotation satisfactory? (y/n). s to skip review n\n",
      "Any remarks? Male deity: left side, elbos should be marked hidden. Second hand on left side is not annotated. Right side: try to place joints so that limb orientation is correctly captured\n",
      "show next image in folder? (y/n) y\n",
      "Is annotation satisfactory? (y/n). s to skip review y\n",
      "show next image in folder? (y/n) y\n",
      "Is annotation satisfactory? (y/n). s to skip review y\n",
      "show next image in folder? (y/n) y\n",
      "Is annotation satisfactory? (y/n). s to skip review y\n",
      "show next image in folder? (y/n) y\n",
      "Is annotation satisfactory? (y/n). s to skip review n\n",
      "Any remarks? one arm on both sides is not annotated\n",
      "show next image in folder? (y/n) y\n",
      "Is annotation satisfactory? (y/n). s to skip review n\n",
      "Any remarks? one arm on both sides is not annotated\n",
      "show next image in folder? (y/n) y\n",
      "Is annotation satisfactory? (y/n). s to skip review y\n",
      "show next image in folder? (y/n) y\n",
      "Is annotation satisfactory? (y/n). s to skip review y\n",
      "show next image in folder? (y/n) y\n",
      "Is annotation satisfactory? (y/n). s to skip review y\n",
      "show next image in folder? (y/n) y\n",
      "Review for offered_for_review_Arnab.csv completed. The file has been deleted\n"
     ]
    }
   ],
   "source": [
    "if(__name__ == '__main__'):\n",
    "    \n",
    "    while(True):\n",
    "        review(kp_dataset_path, accepted_file_path, to_review_path, review_file_path, expunged_file_path, window_size = window_size, image_folder = image_folder)\n",
    "\n",
    "\n",
    "        kp_dataset = pd.read_csv(kp_dataset_path, index_col = False)\n",
    "        results_dataset = pd.read_csv(review_file_path, index_col = False)\n",
    "\n",
    "        kp_files = kp_dataset['img_id'].values\n",
    "        result_files = results_dataset['img_id'].values\n",
    "        count = 0\n",
    "        for im in kp_files:\n",
    "            if(im not in result_files):\n",
    "                count += 1\n",
    "\n",
    "        x = 'n'\n",
    "        if(count == 0):\n",
    "            os.remove(kp_dataset_path)\n",
    "            print(\"Review for \" + keypoints_file + \" completed. The file has been deleted\")\n",
    "\n",
    "        else:\n",
    "            print(\"ALERT: All offered images have not been annotated. Run program again to complete\")\n",
    "            x = input(\"Complete Review now? (y/n) \")\n",
    "        if(x == 'y'):\n",
    "            continue\n",
    "        else:\n",
    "            break\n",
    "        \n",
    "        \n",
    "        \n",
    "    "
   ]
  },
  {
   "cell_type": "code",
   "execution_count": null,
   "metadata": {},
   "outputs": [],
   "source": []
  }
 ],
 "metadata": {
  "kernelspec": {
   "display_name": "Python 3",
   "language": "python",
   "name": "python3"
  },
  "language_info": {
   "codemirror_mode": {
    "name": "ipython",
    "version": 3
   },
   "file_extension": ".py",
   "mimetype": "text/x-python",
   "name": "python",
   "nbconvert_exporter": "python",
   "pygments_lexer": "ipython3",
   "version": "3.8.5"
  }
 },
 "nbformat": 4,
 "nbformat_minor": 4
}
